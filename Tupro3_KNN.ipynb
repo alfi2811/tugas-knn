{
  "nbformat": 4,
  "nbformat_minor": 0,
  "metadata": {
    "colab": {
      "name": "Tupro3_KNN.ipynb",
      "provenance": [],
      "collapsed_sections": [],
      "authorship_tag": "ABX9TyOmp6J3XzF83R+MANhsBmOr",
      "include_colab_link": true
    },
    "kernelspec": {
      "name": "python3",
      "display_name": "Python 3"
    },
    "language_info": {
      "name": "python"
    }
  },
  "cells": [
    {
      "cell_type": "markdown",
      "metadata": {
        "id": "view-in-github",
        "colab_type": "text"
      },
      "source": [
        "<a href=\"https://colab.research.google.com/github/alfi2811/tugas-knn/blob/master/Tupro3_KNN.ipynb\" target=\"_parent\"><img src=\"https://colab.research.google.com/assets/colab-badge.svg\" alt=\"Open In Colab\"/></a>"
      ]
    },
    {
      "cell_type": "markdown",
      "metadata": {
        "id": "2wvBS5BmaI7r"
      },
      "source": [
        "##**Tugas Pemograman 3 - KKN**"
      ]
    },
    {
      "cell_type": "markdown",
      "metadata": {
        "id": "kRh73tGQavTp"
      },
      "source": [
        "#### **Import Library**"
      ]
    },
    {
      "cell_type": "code",
      "metadata": {
        "id": "aZhJMwgBvNBN"
      },
      "source": [
        "import pandas as pd"
      ],
      "execution_count": 157,
      "outputs": []
    },
    {
      "cell_type": "markdown",
      "metadata": {
        "id": "0yzg-ccTEGhi"
      },
      "source": [
        "#### **Praprocessing Data**"
      ]
    },
    {
      "cell_type": "markdown",
      "metadata": {
        "id": "oRAWk3QhEHZN"
      },
      "source": [
        "##### Import data from excel"
      ]
    },
    {
      "cell_type": "code",
      "metadata": {
        "colab": {
          "base_uri": "https://localhost:8080/",
          "height": 576
        },
        "id": "1GDYqR22Cl2H",
        "outputId": "3c89c81e-4588-4fe9-ddc3-afba47dded64"
      },
      "source": [
        "CAR_SIZE = 17\n",
        "df = pd.read_excel('https://github.com/alfi2811/tugas-knn/blob/master/mobil.xls?raw=true')\n",
        "df"
      ],
      "execution_count": 158,
      "outputs": [
        {
          "output_type": "execute_result",
          "data": {
            "text/html": [
              "<div>\n",
              "<style scoped>\n",
              "    .dataframe tbody tr th:only-of-type {\n",
              "        vertical-align: middle;\n",
              "    }\n",
              "\n",
              "    .dataframe tbody tr th {\n",
              "        vertical-align: top;\n",
              "    }\n",
              "\n",
              "    .dataframe thead th {\n",
              "        text-align: right;\n",
              "    }\n",
              "</style>\n",
              "<table border=\"1\" class=\"dataframe\">\n",
              "  <thead>\n",
              "    <tr style=\"text-align: right;\">\n",
              "      <th></th>\n",
              "      <th>Nama Mobil</th>\n",
              "      <th>Ukuran</th>\n",
              "      <th>Kenyamanan</th>\n",
              "      <th>Irit</th>\n",
              "      <th>Kecepatan</th>\n",
              "      <th>Harga (Ratus Juta)</th>\n",
              "    </tr>\n",
              "  </thead>\n",
              "  <tbody>\n",
              "    <tr>\n",
              "      <th>0</th>\n",
              "      <td>Toyota Agya</td>\n",
              "      <td>4</td>\n",
              "      <td>4</td>\n",
              "      <td>9</td>\n",
              "      <td>6</td>\n",
              "      <td>1.00</td>\n",
              "    </tr>\n",
              "    <tr>\n",
              "      <th>1</th>\n",
              "      <td>Daihatsu Alya</td>\n",
              "      <td>4</td>\n",
              "      <td>3</td>\n",
              "      <td>9</td>\n",
              "      <td>6</td>\n",
              "      <td>1.10</td>\n",
              "    </tr>\n",
              "    <tr>\n",
              "      <th>2</th>\n",
              "      <td>Toyota Avanza</td>\n",
              "      <td>6</td>\n",
              "      <td>5</td>\n",
              "      <td>6</td>\n",
              "      <td>6</td>\n",
              "      <td>2.00</td>\n",
              "    </tr>\n",
              "    <tr>\n",
              "      <th>3</th>\n",
              "      <td>Daihatsu Xenia</td>\n",
              "      <td>6</td>\n",
              "      <td>4</td>\n",
              "      <td>6</td>\n",
              "      <td>6</td>\n",
              "      <td>1.75</td>\n",
              "    </tr>\n",
              "    <tr>\n",
              "      <th>4</th>\n",
              "      <td>Xpander</td>\n",
              "      <td>7</td>\n",
              "      <td>7</td>\n",
              "      <td>6</td>\n",
              "      <td>7</td>\n",
              "      <td>2.25</td>\n",
              "    </tr>\n",
              "    <tr>\n",
              "      <th>5</th>\n",
              "      <td>Livina</td>\n",
              "      <td>7</td>\n",
              "      <td>7</td>\n",
              "      <td>6</td>\n",
              "      <td>7</td>\n",
              "      <td>2.10</td>\n",
              "    </tr>\n",
              "    <tr>\n",
              "      <th>6</th>\n",
              "      <td>Karimun</td>\n",
              "      <td>3</td>\n",
              "      <td>4</td>\n",
              "      <td>10</td>\n",
              "      <td>5</td>\n",
              "      <td>1.20</td>\n",
              "    </tr>\n",
              "    <tr>\n",
              "      <th>7</th>\n",
              "      <td>Toyota Innova</td>\n",
              "      <td>8</td>\n",
              "      <td>8</td>\n",
              "      <td>5</td>\n",
              "      <td>7</td>\n",
              "      <td>4.00</td>\n",
              "    </tr>\n",
              "    <tr>\n",
              "      <th>8</th>\n",
              "      <td>Alphard</td>\n",
              "      <td>9</td>\n",
              "      <td>10</td>\n",
              "      <td>4</td>\n",
              "      <td>8</td>\n",
              "      <td>10.00</td>\n",
              "    </tr>\n",
              "    <tr>\n",
              "      <th>9</th>\n",
              "      <td>Toyota Vios</td>\n",
              "      <td>5</td>\n",
              "      <td>7</td>\n",
              "      <td>9</td>\n",
              "      <td>8</td>\n",
              "      <td>2.50</td>\n",
              "    </tr>\n",
              "    <tr>\n",
              "      <th>10</th>\n",
              "      <td>Honda City</td>\n",
              "      <td>5</td>\n",
              "      <td>8</td>\n",
              "      <td>7</td>\n",
              "      <td>8</td>\n",
              "      <td>2.70</td>\n",
              "    </tr>\n",
              "    <tr>\n",
              "      <th>11</th>\n",
              "      <td>Toyota Hiace</td>\n",
              "      <td>10</td>\n",
              "      <td>5</td>\n",
              "      <td>8</td>\n",
              "      <td>6</td>\n",
              "      <td>5.00</td>\n",
              "    </tr>\n",
              "    <tr>\n",
              "      <th>12</th>\n",
              "      <td>Toyota Fortuner</td>\n",
              "      <td>9</td>\n",
              "      <td>8</td>\n",
              "      <td>5</td>\n",
              "      <td>8</td>\n",
              "      <td>5.00</td>\n",
              "    </tr>\n",
              "    <tr>\n",
              "      <th>13</th>\n",
              "      <td>Toyota Foxy</td>\n",
              "      <td>9</td>\n",
              "      <td>9</td>\n",
              "      <td>5</td>\n",
              "      <td>7</td>\n",
              "      <td>5.50</td>\n",
              "    </tr>\n",
              "    <tr>\n",
              "      <th>14</th>\n",
              "      <td>Toyota Corolla Altis</td>\n",
              "      <td>5</td>\n",
              "      <td>9</td>\n",
              "      <td>7</td>\n",
              "      <td>9</td>\n",
              "      <td>6.00</td>\n",
              "    </tr>\n",
              "    <tr>\n",
              "      <th>15</th>\n",
              "      <td>Suzuki Ertiga</td>\n",
              "      <td>7</td>\n",
              "      <td>7</td>\n",
              "      <td>7</td>\n",
              "      <td>7</td>\n",
              "      <td>2.30</td>\n",
              "    </tr>\n",
              "    <tr>\n",
              "      <th>16</th>\n",
              "      <td>Suzuki Carry</td>\n",
              "      <td>7</td>\n",
              "      <td>3</td>\n",
              "      <td>9</td>\n",
              "      <td>5</td>\n",
              "      <td>0.80</td>\n",
              "    </tr>\n",
              "  </tbody>\n",
              "</table>\n",
              "</div>"
            ],
            "text/plain": [
              "              Nama Mobil  Ukuran  ...  Kecepatan  Harga (Ratus Juta)\n",
              "0            Toyota Agya       4  ...          6                1.00\n",
              "1          Daihatsu Alya       4  ...          6                1.10\n",
              "2          Toyota Avanza       6  ...          6                2.00\n",
              "3         Daihatsu Xenia       6  ...          6                1.75\n",
              "4                Xpander       7  ...          7                2.25\n",
              "5                 Livina       7  ...          7                2.10\n",
              "6                Karimun       3  ...          5                1.20\n",
              "7          Toyota Innova       8  ...          7                4.00\n",
              "8                Alphard       9  ...          8               10.00\n",
              "9            Toyota Vios       5  ...          8                2.50\n",
              "10            Honda City       5  ...          8                2.70\n",
              "11          Toyota Hiace      10  ...          6                5.00\n",
              "12       Toyota Fortuner       9  ...          8                5.00\n",
              "13           Toyota Foxy       9  ...          7                5.50\n",
              "14  Toyota Corolla Altis       5  ...          9                6.00\n",
              "15         Suzuki Ertiga       7  ...          7                2.30\n",
              "16          Suzuki Carry       7  ...          5                0.80\n",
              "\n",
              "[17 rows x 6 columns]"
            ]
          },
          "metadata": {
            "tags": []
          },
          "execution_count": 158
        }
      ]
    },
    {
      "cell_type": "markdown",
      "metadata": {
        "id": "V4oqO3xOH630"
      },
      "source": [
        "##### Check if there is missing data"
      ]
    },
    {
      "cell_type": "code",
      "metadata": {
        "colab": {
          "base_uri": "https://localhost:8080/"
        },
        "id": "PIO752BBH5kJ",
        "outputId": "58a1ee86-cefe-47b2-8834-57912ad588f3"
      },
      "source": [
        "df.isna().sum()"
      ],
      "execution_count": 159,
      "outputs": [
        {
          "output_type": "execute_result",
          "data": {
            "text/plain": [
              "Nama Mobil            0\n",
              "Ukuran                0\n",
              "Kenyamanan            0\n",
              "Irit                  0\n",
              "Kecepatan             0\n",
              "Harga (Ratus Juta)    0\n",
              "dtype: int64"
            ]
          },
          "metadata": {
            "tags": []
          },
          "execution_count": 159
        }
      ]
    },
    {
      "cell_type": "markdown",
      "metadata": {
        "id": "aOPpfrM3DzhD"
      },
      "source": [
        "##### Make list of new data without car name"
      ]
    },
    {
      "cell_type": "code",
      "metadata": {
        "id": "Wb0NTbdQDySw"
      },
      "source": [
        "dataLatih = []\n",
        "for i in range(len(df)):\n",
        "    newData = [df['Ukuran'][i], df['Kenyamanan'][i], df['Irit'][i], df['Kecepatan'][i], df['Harga (Ratus Juta)'][i]]        \n",
        "    dataLatih.append(newData)"
      ],
      "execution_count": 160,
      "outputs": []
    },
    {
      "cell_type": "markdown",
      "metadata": {
        "id": "L1v8BYLha4GB"
      },
      "source": [
        "#### **Get Best Three for Each Distance**"
      ]
    },
    {
      "cell_type": "code",
      "metadata": {
        "id": "JaJ_wMf1vbCi"
      },
      "source": [
        "def best_three(listData):\n",
        "    return sorted(listData, key=lambda x: x[1], reverse=False)[:3]"
      ],
      "execution_count": 161,
      "outputs": []
    },
    {
      "cell_type": "markdown",
      "metadata": {
        "id": "5O_GWWbBbzVf"
      },
      "source": [
        "#### **Euclidean Distance**"
      ]
    },
    {
      "cell_type": "code",
      "metadata": {
        "id": "rkoIicCMvcxZ"
      },
      "source": [
        "def calc_euclidean_dist(dtLatih, dtUji):\n",
        "    listEuc = []\n",
        "    for i in range(len(dtLatih)):\n",
        "        dist = 0\n",
        "        for j in range(len(dtLatih[i])):\n",
        "            dist += (dtLatih[i][j] - dtUji[j])**2\n",
        "        listEuc.append([df['Nama Mobil'][i], round(dist ** (1/2), 3)])       \n",
        "    return best_three(listEuc)"
      ],
      "execution_count": 162,
      "outputs": []
    },
    {
      "cell_type": "markdown",
      "metadata": {
        "id": "DjGIWaKcb4wv"
      },
      "source": [
        "#### **Manhattan Distance**"
      ]
    },
    {
      "cell_type": "code",
      "metadata": {
        "id": "jwepX1LzveNP"
      },
      "source": [
        "def calc_manhattan_dist(dtLatih, dtUji):\n",
        "    listManh = []\n",
        "    for i in range(len(dtLatih)):\n",
        "        sum = 0\n",
        "        for j in range(len(dtLatih[i])):\n",
        "            sum += abs(dtLatih[i][j] - dtUji[j])        \n",
        "        listManh.append([df['Nama Mobil'][i], round(sum, 3)])       \n",
        "    return best_three(listManh)"
      ],
      "execution_count": 163,
      "outputs": []
    },
    {
      "cell_type": "markdown",
      "metadata": {
        "id": "WncNfplub69G"
      },
      "source": [
        "#### **Minkowski Distance**"
      ]
    },
    {
      "cell_type": "code",
      "metadata": {
        "id": "csIpAFl9vf88"
      },
      "source": [
        "def calc_minkowski_dist(dtLatih, dtUji, p=1):\n",
        "    listMin = []\n",
        "    for i in range(len(dtLatih)):\n",
        "        sum = 0\n",
        "        for j in range(len(dtLatih[i])):\n",
        "            sum += abs(dtLatih[i][j] - dtUji[j]) ** p\n",
        "        listMin.append([df['Nama Mobil'][i], round(sum ** (1/p), 3)])       \n",
        "    return best_three(listMin)"
      ],
      "execution_count": 164,
      "outputs": []
    },
    {
      "cell_type": "markdown",
      "metadata": {
        "id": "muOefQ0Ib9DU"
      },
      "source": [
        "#### **Supremum Distance**"
      ]
    },
    {
      "cell_type": "code",
      "metadata": {
        "id": "W4KvsGYcvjMg"
      },
      "source": [
        "def calc_supremum_dist(dtLatih, dtUji):\n",
        "    listSupr = []\n",
        "    for i in range(len(dtLatih)):\n",
        "        listDist = []\n",
        "        for j in range(len(dtLatih[i])):\n",
        "            listDist.append(abs(dtLatih[i][j] - dtUji[j]))\n",
        "        listSupr.append([df['Nama Mobil'][i], round(max(listDist), 3)])       \n",
        "    return best_three(listSupr)"
      ],
      "execution_count": 165,
      "outputs": []
    },
    {
      "cell_type": "markdown",
      "metadata": {
        "id": "I_oaNV2ACt_L"
      },
      "source": [
        "#### **Calculate Distance**"
      ]
    },
    {
      "cell_type": "code",
      "metadata": {
        "id": "i3vvMGC2Cxo0"
      },
      "source": [
        "def calc_distance(dtLatih, dtUji):\n",
        "    euclidean = calc_euclidean_dist(dtLatih, dtUji)\n",
        "    manhattan = calc_manhattan_dist(dtLatih, dtUji)\n",
        "    minkowski = calc_minkowski_dist(dtLatih, dtUji)\n",
        "    supremum = calc_supremum_dist(dtLatih, dtUji)\n",
        "    distance = [[\"Euclidean\", euclidean], [\"Manhattan\", manhattan], [\"Minkowski\", minkowski], [\"Supremum\", supremum]]\n",
        "    return distance"
      ],
      "execution_count": 166,
      "outputs": []
    },
    {
      "cell_type": "markdown",
      "metadata": {
        "id": "i4EjyQYMEjfK"
      },
      "source": [
        "#### **Input Data from User**"
      ]
    },
    {
      "cell_type": "code",
      "metadata": {
        "id": "d0B3MDehElEb"
      },
      "source": [
        "def input_dtuji():\n",
        "    ukuran = int(input(\"Masukkan Ukuran: \"))\n",
        "    kenyamanan = int(input(\"Masukkan Kenyamanan: \"))\n",
        "    irit = int(input(\"Masukkan Irit: \"))\n",
        "    kecepatan = float(input(\"Masukkan Kecepatan: \"))\n",
        "    harga = float(input(\"Masukkan Harga: \"))\n",
        "\n",
        "    return [ukuran, kenyamanan, irit, kecepatan, harga]"
      ],
      "execution_count": 167,
      "outputs": []
    },
    {
      "cell_type": "markdown",
      "metadata": {
        "id": "KStQrIlZHfx3"
      },
      "source": [
        "#### **Main Program**"
      ]
    },
    {
      "cell_type": "code",
      "metadata": {
        "colab": {
          "base_uri": "https://localhost:8080/"
        },
        "id": "rnELcSDgvlev",
        "outputId": "34fc93df-e6c6-4516-8cd0-78a694e729f2"
      },
      "source": [
        "# MAIN PROGRAM\n",
        "\n",
        "dataUji = input_dtuji()\n",
        "distance = calc_distance(dataLatih, dataUji)\n",
        "\n",
        "print(distance)\n",
        "print(\"========Hasil Akhir========\")\n",
        "for dt in distance:\n",
        "    print(\"Rekomendasi Berdsarkan \", dt[0])\n",
        "    i = 1\n",
        "    listDist = []\n",
        "    for car in dt[1]:\n",
        "        print(\"{}. \".format(i), car[0], \"dengan hasil distance: \", car[1])\n",
        "        listDist.append(car[1])\n",
        "        i+=1\n",
        "    \n",
        "    # dtNew = pd.DataFrame(listDist, columns=['Distance'])\n",
        "    # dtNew.index += 1\n",
        "    # dtNew.to_excel(f'./{dt[0]}.xlsx')\n",
        "rekomendasi = []\n",
        "for dt in distance[0][1]:\n",
        "    rekomendasi.append(dt[1])\n",
        "dtNew = pd.DataFrame(rekomendasi, columns=['Distance'])\n",
        "dtNew.index += 1    \n",
        "dtNew.to_excel(f'./rekomendasi.xlsx')"
      ],
      "execution_count": 168,
      "outputs": [
        {
          "output_type": "stream",
          "text": [
            "Masukkan Ukuran: 1\n",
            "Masukkan Kenyamanan: 2\n",
            "Masukkan Irit: 3\n",
            "Masukkan Kecepatan: 4\n",
            "Masukkan Harga: 5\n",
            "[['Euclidean', [['Daihatsu Xenia', 7.25], ['Toyota Avanza', 7.483], ['Daihatsu Alya', 8.075]]], ['Manhattan', [['Daihatsu Xenia', 15.25], ['Karimun', 15.8], ['Daihatsu Alya', 15.9]]], ['Minkowski', [['Daihatsu Xenia', 15.25], ['Karimun', 15.8], ['Daihatsu Alya', 15.9]]], ['Supremum', [['Toyota Avanza', 5], ['Daihatsu Xenia', 5], ['Toyota Agya', 6]]]]\n",
            "========Hasil Akhir========\n",
            "Rekomendasi Berdsarkan  Euclidean\n",
            "1.  Daihatsu Xenia dengan hasil distance:  7.25\n",
            "2.  Toyota Avanza dengan hasil distance:  7.483\n",
            "3.  Daihatsu Alya dengan hasil distance:  8.075\n",
            "Rekomendasi Berdsarkan  Manhattan\n",
            "1.  Daihatsu Xenia dengan hasil distance:  15.25\n",
            "2.  Karimun dengan hasil distance:  15.8\n",
            "3.  Daihatsu Alya dengan hasil distance:  15.9\n",
            "Rekomendasi Berdsarkan  Minkowski\n",
            "1.  Daihatsu Xenia dengan hasil distance:  15.25\n",
            "2.  Karimun dengan hasil distance:  15.8\n",
            "3.  Daihatsu Alya dengan hasil distance:  15.9\n",
            "Rekomendasi Berdsarkan  Supremum\n",
            "1.  Toyota Avanza dengan hasil distance:  5\n",
            "2.  Daihatsu Xenia dengan hasil distance:  5\n",
            "3.  Toyota Agya dengan hasil distance:  6\n"
          ],
          "name": "stdout"
        }
      ]
    }
  ]
}