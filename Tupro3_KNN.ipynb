{
  "nbformat": 4,
  "nbformat_minor": 0,
  "metadata": {
    "colab": {
      "name": "Tupro3_KNN.ipynb",
      "provenance": [],
      "collapsed_sections": []
    },
    "kernelspec": {
      "name": "python3",
      "display_name": "Python 3"
    },
    "language_info": {
      "name": "python"
    }
  },
  "cells": [
    {
      "cell_type": "code",
      "metadata": {
        "id": "aZhJMwgBvNBN"
      },
      "source": [
        "import pandas as pd"
      ],
      "execution_count": null,
      "outputs": []
    },
    {
      "cell_type": "code",
      "metadata": {
        "id": "JaJ_wMf1vbCi"
      },
      "source": [
        "def best_three(listData):\n",
        "    return sorted(listData, key=lambda x: x[1], reverse=False)[:3]"
      ],
      "execution_count": null,
      "outputs": []
    },
    {
      "cell_type": "code",
      "metadata": {
        "id": "rkoIicCMvcxZ"
      },
      "source": [
        "def calc_euc_dist(dtLatih, dtUji):\n",
        "    listEuc = []\n",
        "    for i in range(CAR_SIZE):\n",
        "        dist = 0\n",
        "        for j in range(len(dtLatih[i])):\n",
        "            dist += (dtLatih[i][j] - dtUji[j])**2\n",
        "        listEuc.append([df['Nama Mobil'][i], round(dist ** (1/2), 3)])       \n",
        "    return best_three(listEuc)"
      ],
      "execution_count": null,
      "outputs": []
    },
    {
      "cell_type": "code",
      "metadata": {
        "id": "jwepX1LzveNP"
      },
      "source": [
        "def calc_manhattan_dist(dtLatih, dtUji):\n",
        "    listManh = []\n",
        "    for i in range(CAR_SIZE):\n",
        "        sum = 0\n",
        "        for j in range(len(dtLatih[i])):\n",
        "            sum += abs(dtLatih[i][j] - dtUji[j])        \n",
        "        listManh.append([df['Nama Mobil'][i], round(sum, 3)])       \n",
        "    return best_three(listManh)"
      ],
      "execution_count": null,
      "outputs": []
    },
    {
      "cell_type": "code",
      "metadata": {
        "id": "csIpAFl9vf88"
      },
      "source": [
        "def calc_minkowski_dist(dtLatih, dtUji, p=2):\n",
        "    listMin = []\n",
        "    for i in range(CAR_SIZE):\n",
        "        sum = 0\n",
        "        for j in range(len(dtLatih[i])):\n",
        "            sum += abs(dtLatih[i][j] - dtUji[j]) ** p\n",
        "        listMin.append([df['Nama Mobil'][i], round(sum ** (1/p), 3)])       \n",
        "    return best_three(listMin)"
      ],
      "execution_count": null,
      "outputs": []
    },
    {
      "cell_type": "code",
      "metadata": {
        "id": "W4KvsGYcvjMg"
      },
      "source": [
        "def calc_supremum_dist(dtLatih, dtUji):\n",
        "    listSupr = []\n",
        "    for i in range(CAR_SIZE):\n",
        "        listDist = []\n",
        "        for j in range(len(dtLatih[i])):\n",
        "            listDist.append(abs(dtLatih[i][j] - dtUji[j]))\n",
        "        listSupr.append([df['Nama Mobil'][i], round(max(listDist), 3)])       \n",
        "    return best_three(listSupr)"
      ],
      "execution_count": null,
      "outputs": []
    },
    {
      "cell_type": "code",
      "metadata": {
        "colab": {
          "base_uri": "https://localhost:8080/"
        },
        "id": "rnELcSDgvlev",
        "outputId": "0e1f24bc-e000-4c95-8168-689047e8fd01"
      },
      "source": [
        "# MAIN PROGRAM\n",
        "\n",
        "# nilai konstan untuk jumlah data restoran\n",
        "CAR_SIZE = 17\n",
        "# mengimport data dari excel  \n",
        "df = pd.read_excel('https://github.com/ShinyQ/Tugas-Pengantar-AI-3_KNN/blob/main/mobil.xls?raw=true')\n",
        "\n",
        "# inisialisasi array untuk menampung data baru  \n",
        "\n",
        "ukuran = int(input(\"Masukkan Ukuran: \"))\n",
        "kenyamanan = int(input(\"Masukkan Kenyamanan: \"))\n",
        "irit = int(input(\"Masukkan Irit: \"))\n",
        "kecepatan = float(input(\"Masukkan Kecepatan: \"))\n",
        "harga = float(input(\"Harga: \"))\n",
        "\n",
        "dataUji = [ukuran, kenyamanan, irit, kecepatan, harga]\n",
        "\n",
        "newCars = []\n",
        "euclidean = []\n",
        "for i in range(CAR_SIZE):            \n",
        "    newData = [df['Ukuran'][i], df['Kenyamanan'][i], df['Irit'][i], df['Kecepatan'][i], df['Harga (Ratus Juta)'][i]]        \n",
        "    newCars.append(newData)\n",
        "\n",
        "euclidean = calc_euc_dist(newCars, dataUji)\n",
        "manhattan = calc_manhattan_dist(newCars, dataUji)\n",
        "minkowski = calc_minkowski_dist(newCars, dataUji)\n",
        "supremum = calc_supremum_dist(newCars, dataUji)\n",
        "distance = [[\"Euclidean\", euclidean], [\"Manhattan\", manhattan], [\"Minkowski\", minkowski], [\"Supremum\", supremum]]\n",
        "\n",
        "print(distance)\n",
        "print(\"========Hasil Akhir========\")\n",
        "for dt in distance:\n",
        "    print(\"Rekomendasi Berdsarkan \", dt[0])\n",
        "    i = 1\n",
        "    listDist = []\n",
        "    for car in dt[1]:\n",
        "        print(\"{}. \".format(i), car[0], \"memiliki distance: \", car[1])\n",
        "        listDist.append(car[1])\n",
        "        i+=1\n",
        "    # dtNew = pd.DataFrame(dt[1], columns=['Distance'])\n",
        "    dtNew = pd.DataFrame(listDist, columns=['Distance'])\n",
        "    dtNew.index += 1\n",
        "    dtNew.to_excel(f'./{dt[0]}.xlsx')"
      ],
      "execution_count": null,
      "outputs": [
        {
          "output_type": "stream",
          "text": [
            "Masukkan Ukuran: 4\n",
            "Masukkan Kenyamanan: 4\n",
            "Masukkan Irit: 6\n",
            "Masukkan Kecepatan: 7\n",
            "Harga: 2\n",
            "[['Euclidean', [['Daihatsu Xenia', 2.25], ['Toyota Avanza', 2.449], ['Toyota Agya', 3.317]]], ['Manhattan', [['Daihatsu Xenia', 3.25], ['Toyota Avanza', 4.0], ['Toyota Agya', 5.0]]], ['Minkowski', [['Daihatsu Xenia', 2.25], ['Toyota Avanza', 2.449], ['Toyota Agya', 3.317]]], ['Supremum', [['Toyota Avanza', 2], ['Daihatsu Xenia', 2], ['Toyota Agya', 3]]]]\n",
            "========Hasil Akhir========\n",
            "Rekomendasi Berdsarkan  Euclidean\n",
            "1.  Daihatsu Xenia memiliki distance:  2.25\n",
            "2.  Toyota Avanza memiliki distance:  2.449\n",
            "3.  Toyota Agya memiliki distance:  3.317\n",
            "Rekomendasi Berdsarkan  Manhattan\n",
            "1.  Daihatsu Xenia memiliki distance:  3.25\n",
            "2.  Toyota Avanza memiliki distance:  4.0\n",
            "3.  Toyota Agya memiliki distance:  5.0\n",
            "Rekomendasi Berdsarkan  Minkowski\n",
            "1.  Daihatsu Xenia memiliki distance:  2.25\n",
            "2.  Toyota Avanza memiliki distance:  2.449\n",
            "3.  Toyota Agya memiliki distance:  3.317\n",
            "Rekomendasi Berdsarkan  Supremum\n",
            "1.  Toyota Avanza memiliki distance:  2\n",
            "2.  Daihatsu Xenia memiliki distance:  2\n",
            "3.  Toyota Agya memiliki distance:  3\n"
          ],
          "name": "stdout"
        }
      ]
    }
  ]
}